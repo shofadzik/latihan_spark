{
  "nbformat": 4,
  "nbformat_minor": 0,
  "metadata": {
    "colab": {
      "name": "Latihan_Spark.ipynb",
      "provenance": [],
      "collapsed_sections": []
    },
    "kernelspec": {
      "name": "python3",
      "display_name": "Python 3"
    },
    "language_info": {
      "name": "python"
    }
  },
  "cells": [
    {
      "cell_type": "markdown",
      "source": [
        "### **MUHAMMAD SHOFA DZIKRON_HOMEWORK**"
      ],
      "metadata": {
        "id": "2O23zEBLfi_R"
      }
    },
    {
      "cell_type": "code",
      "execution_count": 1,
      "metadata": {
        "id": "ObJZ0PnBAz9u",
        "colab": {
          "base_uri": "https://localhost:8080/"
        },
        "outputId": "cb2bd489-17c4-485a-cf78-57811f671406"
      },
      "outputs": [
        {
          "output_type": "stream",
          "name": "stdout",
          "text": [
            "Looking in indexes: https://pypi.org/simple, https://us-python.pkg.dev/colab-wheels/public/simple/\n",
            "Collecting pyspark\n",
            "  Downloading pyspark-3.3.0.tar.gz (281.3 MB)\n",
            "\u001b[K     |████████████████████████████████| 281.3 MB 38 kB/s \n",
            "\u001b[?25hCollecting py4j==0.10.9.5\n",
            "  Downloading py4j-0.10.9.5-py2.py3-none-any.whl (199 kB)\n",
            "\u001b[K     |████████████████████████████████| 199 kB 37.3 MB/s \n",
            "\u001b[?25hBuilding wheels for collected packages: pyspark\n",
            "  Building wheel for pyspark (setup.py) ... \u001b[?25l\u001b[?25hdone\n",
            "  Created wheel for pyspark: filename=pyspark-3.3.0-py2.py3-none-any.whl size=281764026 sha256=6bf10ca81e342f03d3fe279efa1dbcde05995bbee39626b769ca5eabbd78fe5b\n",
            "  Stored in directory: /root/.cache/pip/wheels/7a/8e/1b/f73a52650d2e5f337708d9f6a1750d451a7349a867f928b885\n",
            "Successfully built pyspark\n",
            "Installing collected packages: py4j, pyspark\n",
            "Successfully installed py4j-0.10.9.5 pyspark-3.3.0\n"
          ]
        }
      ],
      "source": [
        "# install java\n",
        "!apt-get install openjdk-8-jdk-headless -qq > /dev/null\n",
        "\n",
        "# install spark (change the version number if needed)\n",
        "!wget -q https://archive.apache.org/dist/spark/spark-3.0.0/spark-3.0.0-bin-hadoop3.2.tgz\n",
        "\n",
        "# unzip the spark file to the current folder\n",
        "!tar xf spark-3.0.0-bin-hadoop3.2.tgz\n",
        "\n",
        "# set your spark folder to your system path environment. \n",
        "import os\n",
        "os.environ[\"JAVA_HOME\"] = \"/usr/lib/jvm/java-8-openjdk-amd64\"\n",
        "os.environ[\"SPARK_HOME\"] = \"/content/spark-3.0.0-bin-hadoop3.2\"\n",
        "\n",
        "# install findspark using pip\n",
        "!pip install -q findspark\n",
        "!pip install pyspark"
      ]
    },
    {
      "cell_type": "code",
      "source": [
        "import findspark\n",
        "findspark.init()\n",
        "from pyspark.sql import SparkSession\n",
        "from pyspark.sql import functions as func\n",
        "from pyspark.sql.types import StructType, StructField, StringType, IntegerType, FloatType\n",
        "\n",
        "spark = SparkSession.builder.appName(\"minAmount\").getOrCreate()"
      ],
      "metadata": {
        "id": "E6qiWVJ6NxK9"
      },
      "execution_count": 53,
      "outputs": []
    },
    {
      "cell_type": "code",
      "source": [
        "spark"
      ],
      "metadata": {
        "colab": {
          "base_uri": "https://localhost:8080/",
          "height": 219
        },
        "id": "XqbwBxPJe_t4",
        "outputId": "fd0e965f-4718-4586-9409-84797bb730e0"
      },
      "execution_count": 54,
      "outputs": [
        {
          "output_type": "execute_result",
          "data": {
            "text/plain": [
              "<pyspark.sql.session.SparkSession at 0x7f521c603310>"
            ],
            "text/html": [
              "\n",
              "            <div>\n",
              "                <p><b>SparkSession - in-memory</b></p>\n",
              "                \n",
              "        <div>\n",
              "            <p><b>SparkContext</b></p>\n",
              "\n",
              "            <p><a href=\"http://ed657ea7137c:4040\">Spark UI</a></p>\n",
              "\n",
              "            <dl>\n",
              "              <dt>Version</dt>\n",
              "                <dd><code>v3.0.0</code></dd>\n",
              "              <dt>Master</dt>\n",
              "                <dd><code>local[*]</code></dd>\n",
              "              <dt>AppName</dt>\n",
              "                <dd><code>minAmount</code></dd>\n",
              "            </dl>\n",
              "        </div>\n",
              "        \n",
              "            </div>\n",
              "        "
            ]
          },
          "metadata": {},
          "execution_count": 54
        }
      ]
    },
    {
      "cell_type": "code",
      "source": [
        "schema = StructType([ \\\n",
        "                     StructField(\"InvoiceNo\", IntegerType(), True), \\\n",
        "                     StructField(\"StockCode\", StringType(), True), \\\n",
        "                     StructField(\"Description\", StringType(), True), \\\n",
        "                     StructField(\"Quantity\", IntegerType(), True), \\\n",
        "                     StructField(\"InvoiceData\", IntegerType(), True), \\\n",
        "                     StructField(\"Amount\", FloatType(), True), \\\n",
        "                     StructField(\"CustomerID\", FloatType(), True), \\\n",
        "                     StructField(\"Country\", StringType(), True)])"
      ],
      "metadata": {
        "id": "e2L50j8wN93y"
      },
      "execution_count": 55,
      "outputs": []
    },
    {
      "cell_type": "code",
      "source": [
        "df = spark.read.schema(schema).csv(\"retail-data-full.csv\")\n",
        "df.printSchema()"
      ],
      "metadata": {
        "colab": {
          "base_uri": "https://localhost:8080/"
        },
        "id": "yb5rslXdOE58",
        "outputId": "c2838415-70be-431b-9ffb-62714a039b46"
      },
      "execution_count": 56,
      "outputs": [
        {
          "output_type": "stream",
          "name": "stdout",
          "text": [
            "root\n",
            " |-- InvoiceNo: integer (nullable = true)\n",
            " |-- StockCode: string (nullable = true)\n",
            " |-- Description: string (nullable = true)\n",
            " |-- Quantity: integer (nullable = true)\n",
            " |-- InvoiceData: integer (nullable = true)\n",
            " |-- Amount: float (nullable = true)\n",
            " |-- CustomerID: float (nullable = true)\n",
            " |-- Country: string (nullable = true)\n",
            "\n"
          ]
        }
      ]
    },
    {
      "cell_type": "code",
      "source": [
        "MinAmount = df.select(\"CustomerID\",\"Amount\")\n",
        "\n",
        "MinAmount.show()"
      ],
      "metadata": {
        "colab": {
          "base_uri": "https://localhost:8080/"
        },
        "id": "tyOnadqrOW9o",
        "outputId": "096f37d8-5a12-43b0-90c7-992253e3fa4f"
      },
      "execution_count": 57,
      "outputs": [
        {
          "output_type": "stream",
          "name": "stdout",
          "text": [
            "+----------+------+\n",
            "|CustomerID|Amount|\n",
            "+----------+------+\n",
            "|   17850.0|  2.55|\n",
            "|   17850.0|  3.39|\n",
            "|   17850.0|  2.75|\n",
            "|   17850.0|  3.39|\n",
            "|   17850.0|  3.39|\n",
            "|   17850.0|  7.65|\n",
            "|   17850.0|  4.25|\n",
            "|   17850.0|  1.85|\n",
            "|   17850.0|  1.85|\n",
            "|   13047.0|  1.69|\n",
            "|   13047.0|   2.1|\n",
            "|   13047.0|   2.1|\n",
            "|   13047.0|  3.75|\n",
            "|   13047.0|  1.65|\n",
            "|   13047.0|  4.25|\n",
            "|   13047.0|  4.95|\n",
            "|   13047.0|  9.95|\n",
            "|   13047.0|  5.95|\n",
            "|   13047.0|  5.95|\n",
            "|   13047.0|  7.95|\n",
            "+----------+------+\n",
            "only showing top 20 rows\n",
            "\n"
          ]
        }
      ]
    },
    {
      "cell_type": "code",
      "source": [
        "minAmount = MinAmount.groupBy(\"CustomerID\").min(\"Amount\").sort(\"CustomerID\")\n",
        "minAmount.show()"
      ],
      "metadata": {
        "colab": {
          "base_uri": "https://localhost:8080/"
        },
        "id": "tfOUooo6W_Sn",
        "outputId": "45b0fda0-a512-4a5f-d8d2-33062ddeaedf"
      },
      "execution_count": 66,
      "outputs": [
        {
          "output_type": "stream",
          "name": "stdout",
          "text": [
            "+----------+-----------+\n",
            "|CustomerID|min(Amount)|\n",
            "+----------+-----------+\n",
            "|      null|        0.0|\n",
            "|   12431.0|       0.85|\n",
            "|   12433.0|       0.29|\n",
            "|   12472.0|       1.25|\n",
            "|   12583.0|       0.42|\n",
            "|   12662.0|       0.42|\n",
            "|   12748.0|       4.95|\n",
            "|   12791.0|       1.85|\n",
            "|   12838.0|       0.29|\n",
            "|   12868.0|       0.65|\n",
            "|   12921.0|       1.25|\n",
            "|   12947.0|       0.42|\n",
            "|   13047.0|       1.65|\n",
            "|   13065.0|       0.42|\n",
            "|   13093.0|       0.85|\n",
            "|   13255.0|       1.25|\n",
            "|   13408.0|       1.25|\n",
            "|   13448.0|       0.29|\n",
            "|   13468.0|       1.25|\n",
            "|   13576.0|       1.25|\n",
            "+----------+-----------+\n",
            "only showing top 20 rows\n",
            "\n"
          ]
        }
      ]
    },
    {
      "cell_type": "code",
      "source": [
        "hasil = minAmount.withColumn(\"Amount\",\n",
        "                          func.col(\"min(Amount)\"))\\\n",
        "                          .select(\"CustomerID\", \"Amount\").sort(\"CustomerID\")"
      ],
      "metadata": {
        "id": "BN_d9BPvilOr"
      },
      "execution_count": 67,
      "outputs": []
    },
    {
      "cell_type": "code",
      "source": [
        "results = hasil.collect()\n",
        "\n",
        "for result in results:\n",
        "    print(result[0], \"\\t{:.2f}\".format(result[1]))"
      ],
      "metadata": {
        "id": "2H5zYj0BjKlp",
        "outputId": "2108f034-eb63-49b0-9cf9-ce4b98de6950",
        "colab": {
          "base_uri": "https://localhost:8080/"
        }
      },
      "execution_count": 68,
      "outputs": [
        {
          "output_type": "stream",
          "name": "stdout",
          "text": [
            "None \t0.00\n",
            "12431.0 \t0.85\n",
            "12433.0 \t0.29\n",
            "12472.0 \t1.25\n",
            "12583.0 \t0.42\n",
            "12662.0 \t0.42\n",
            "12748.0 \t4.95\n",
            "12791.0 \t1.85\n",
            "12838.0 \t0.29\n",
            "12868.0 \t0.65\n",
            "12921.0 \t1.25\n",
            "12947.0 \t0.42\n",
            "13047.0 \t1.65\n",
            "13065.0 \t0.42\n",
            "13093.0 \t0.85\n",
            "13255.0 \t1.25\n",
            "13408.0 \t1.25\n",
            "13448.0 \t0.29\n",
            "13468.0 \t1.25\n",
            "13576.0 \t1.25\n",
            "13694.0 \t0.24\n",
            "13705.0 \t0.65\n",
            "13747.0 \t9.95\n",
            "13748.0 \t2.55\n",
            "13758.0 \t1.25\n",
            "13767.0 \t0.55\n",
            "13777.0 \t1.05\n",
            "14001.0 \t1.69\n",
            "14045.0 \t2.55\n",
            "14078.0 \t0.42\n",
            "14142.0 \t0.21\n",
            "14237.0 \t0.85\n",
            "14307.0 \t0.21\n",
            "14496.0 \t1.25\n",
            "14527.0 \t27.50\n",
            "14594.0 \t0.42\n",
            "14606.0 \t0.29\n",
            "14688.0 \t0.38\n",
            "14696.0 \t0.42\n",
            "14729.0 \t0.29\n",
            "14849.0 \t0.55\n",
            "14911.0 \t0.65\n",
            "15012.0 \t0.42\n",
            "15100.0 \t10.95\n",
            "15165.0 \t1.45\n",
            "15235.0 \t0.95\n",
            "15291.0 \t2.55\n",
            "15311.0 \t0.85\n",
            "15350.0 \t2.10\n",
            "15485.0 \t0.42\n",
            "15513.0 \t2.55\n",
            "15525.0 \t0.29\n",
            "15605.0 \t0.85\n",
            "15862.0 \t0.55\n",
            "15922.0 \t1.25\n",
            "15983.0 \t0.42\n",
            "16029.0 \t1.25\n",
            "16048.0 \t0.42\n",
            "16098.0 \t0.85\n",
            "16210.0 \t0.72\n",
            "16218.0 \t0.55\n",
            "16250.0 \t0.42\n",
            "16274.0 \t0.29\n",
            "16456.0 \t1.65\n",
            "16539.0 \t0.85\n",
            "16552.0 \t0.85\n",
            "16583.0 \t1.25\n",
            "16835.0 \t2.10\n",
            "16928.0 \t1.25\n",
            "16955.0 \t0.85\n",
            "17025.0 \t0.65\n",
            "17069.0 \t0.85\n",
            "17181.0 \t0.55\n",
            "17346.0 \t0.42\n",
            "17377.0 \t0.29\n",
            "17420.0 \t1.25\n",
            "17460.0 \t9.95\n",
            "17511.0 \t0.10\n",
            "17548.0 \t0.29\n",
            "17572.0 \t2.95\n",
            "17643.0 \t0.65\n",
            "17690.0 \t1.25\n",
            "17760.0 \t0.42\n",
            "17809.0 \t1.45\n",
            "17841.0 \t0.12\n",
            "17850.0 \t1.06\n",
            "17873.0 \t1.25\n",
            "17897.0 \t0.42\n",
            "17905.0 \t1.25\n",
            "17908.0 \t0.12\n",
            "17920.0 \t0.65\n",
            "17924.0 \t4.65\n",
            "17951.0 \t2.10\n",
            "17968.0 \t0.29\n",
            "18011.0 \t0.19\n",
            "18074.0 \t0.65\n",
            "18085.0 \t2.10\n",
            "18144.0 \t1.25\n",
            "18229.0 \t3.75\n"
          ]
        }
      ]
    },
    {
      "cell_type": "code",
      "source": [
        "spark.stop()"
      ],
      "metadata": {
        "id": "I2tQINlTgGjA"
      },
      "execution_count": 51,
      "outputs": []
    }
  ]
}